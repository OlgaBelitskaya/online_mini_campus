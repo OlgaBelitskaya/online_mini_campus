{
 "cells": [
  {
   "cell_type": "markdown",
   "metadata": {},
   "source": [
    "# &#x1F4D1; &nbsp; Online Mini Campus \n",
    "## Morning Exercises for Learners :)\n",
    "\n",
    "<a href=\"https://www.instagram.com/olga.belitskaya/\" style=\"font-size:120%;\">&#x1F300; &nbsp; Instagram Posts</a> &nbsp; &nbsp; &nbsp; <a href=\"https://www.pinterest.ru/olga_belitskaya/code-style/\" style=\"font-size:120%;\">&#x1F300; &nbsp; Pinterest Posts</a>"
   ]
  },
  {
   "cell_type": "markdown",
   "metadata": {},
   "source": [
    "# &#x1F4D1; &nbsp; SageMath Practice with Wolfram \"Translation\"\n",
    "\n",
    "## [SageMath PART 1](https://olgabelitskaya.github.io/sage.html)\n",
    "## &#x1F4D3; &nbsp; [Wolfram NB Part 1](https://www.wolframcloud.com/obj/safuolga/Published/wolfram.nb)\n",
    "\n",
    "## [SageMath PART 2](https://olgabelitskaya.github.io/sage2.html)\n",
    "## &#x1F4D3; &nbsp; [Wolfram NB Part 2](https://www.wolframcloud.com/obj/safuolga/Published/wolfram2.nb)\n",
    "\n",
    "## [SageMath PART 3](https://olgabelitskaya.github.io/sage3.html)\n",
    "## &#x1F4D3; &nbsp; [Wolfram NB Part 3](https://www.wolframcloud.com/obj/safuolga/Published/wolfram3.nb)\n",
    "\n",
    "## [SageMath PART 4](https://olgabelitskaya.github.io/sage4.html)\n",
    "## &#x1F4D3; &nbsp; [Wolfram NB Part 4](https://www.wolframcloud.com/obj/safuolga/Published/wolfram4.nb)\n",
    "\n",
    "## [SageMath PART 5](https://olgabelitskaya.github.io/sage5.html)\n",
    "## &#x1F4D3; &nbsp; [Wolfram NB Part 5](https://www.wolframcloud.com/obj/safuolga/Published/wolfram5.nb)\n",
    "\n",
    "## [SageMath PART 6](https://olgabelitskaya.github.io/sage6.html)\n",
    "## &#x1F4D3; &nbsp; [Wolfram NB Part 6](https://www.wolframcloud.com/obj/safuolga/Published/wolfram6.nb)\n",
    "\n",
    "## [SageMath PART 7](https://olgabelitskaya.github.io/sage7.html)\n",
    "## &#x1F4D3; &nbsp; [Wolfram NB Part 7](https://www.wolframcloud.com/obj/safuolga/Published/wolfram7.nb)\n",
    "\n",
    "## [SageMath PART 8](https://olgabelitskaya.github.io/sage8.html)\n",
    "## &#x1F4D3; &nbsp; [Wolfram NB Part 8](https://www.wolframcloud.com/obj/safuolga/Published/wolfram8.nb)\n",
    "\n",
    "## [SageMath PART 9](https://olgabelitskaya.github.io/sage9.html)\n",
    "## &#x1F4D3; &nbsp; [Wolfram NB Part 9](https://www.wolframcloud.com/obj/safuolga/Published/wolfram9.nb)\n",
    "\n",
    "## [SageMath PART 10](https://olgabelitskaya.github.io/sage10.html)\n",
    "## &#x1F4D3; &nbsp; [Wolfram NB Part 10](https://www.wolframcloud.com/obj/safuolga/Published/wolfram10.nb)\n",
    "\n",
    "## [SageMath PART 11](https://olgabelitskaya.github.io/sage11.html)\n",
    "## &#x1F4D3; &nbsp; [Wolfram NB Part 11](https://www.wolframcloud.com/obj/safuolga/Published/wolfram11.nb)\n",
    "\n",
    "## [SageMath PART 12](https://olgabelitskaya.github.io/sage12.html)\n",
    "## &#x1F4D3; &nbsp; [Wolfram NB Part 12](https://www.wolframcloud.com/obj/safuolga/Published/wolfram12.nb)\n",
    "\n",
    "## [SageMath PART 13](https://olgabelitskaya.github.io/sage13.html)\n",
    "## &#x1F4D3; &nbsp; [Wolfram NB Part 13](https://www.wolframcloud.com/obj/safuolga/Published/wolfram13.nb)\n",
    "\n",
    "## [SageMath PART 14](https://olgabelitskaya.github.io/sage14.html)\n",
    "## &#x1F4D3; &nbsp; [Wolfram NB Part 14](https://www.wolframcloud.com/obj/safuolga/Published/wolfram14.nb)\n",
    "\n",
    "## [SageMath PART 15](https://olgabelitskaya.github.io/sage15.html)\n",
    "## &#x1F4D3; &nbsp; [Wolfram NB Part 15](https://www.wolframcloud.com/obj/safuolga/Published/wolfram15.nb)\n",
    "\n",
    "## [SageMath PART 16](https://olgabelitskaya.github.io/sage16.html)\n",
    "## &#x1F4D3; &nbsp; [Wolfram NB Part 16](https://www.wolframcloud.com/obj/safuolga/Published/wolfram16.nb)\n",
    "\n",
    "## [SageMath PART 17](https://olgabelitskaya.github.io/sage17.html)\n",
    "## &#x1F4D3; &nbsp; [Wolfram NB Part 17](https://www.wolframcloud.com/obj/safuolga/Published/wolfram17.nb)\n",
    "\n",
    "## [SageMath PART 18](https://olgabelitskaya.github.io/sage18.html)\n",
    "## &#x1F4D3; &nbsp; [Wolfram NB Part 18](https://www.wolframcloud.com/obj/safuolga/Published/wolfram18.nb)\n",
    "\n",
    "## [SageMath PART 19](https://olgabelitskaya.github.io/sage19.html)\n",
    "## &#x1F4D3; &nbsp; [Wolfram NB Part 19](https://www.wolframcloud.com/obj/safuolga/Published/wolfram19.nb)\n",
    "\n",
    "## [PART 20](https://olgabelitskaya.github.io/sage20.html)\n",
    "\n",
    "## [PART 21](https://olgabelitskaya.github.io/sage21.html)\n",
    "\n",
    "## [PART 22](https://olgabelitskaya.github.io/sage22.html)\n",
    "\n",
    "## [PART 23](https://olgabelitskaya.github.io/sage23.html)\n",
    "\n",
    "## [PART 24](https://olgabelitskaya.github.io/sage24.html)"
   ]
  }
 ],
 "metadata": {
  "kernelspec": {
   "display_name": "Python 2",
   "language": "python",
   "name": "python2"
  },
  "language_info": {
   "codemirror_mode": {
    "name": "ipython",
    "version": 2
   },
   "file_extension": ".py",
   "mimetype": "text/x-python",
   "name": "python",
   "nbconvert_exporter": "python",
   "pygments_lexer": "ipython2",
   "version": "2.7.15"
  }
 },
 "nbformat": 4,
 "nbformat_minor": 2
}
