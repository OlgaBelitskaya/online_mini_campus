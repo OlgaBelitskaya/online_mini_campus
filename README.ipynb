{
 "cells": [
  {
   "cell_type": "markdown",
   "metadata": {},
   "source": [
    "# &#x1F4D1; &nbsp; Online Mini Campus \n",
    "## Morning Exercises for Learners :)\n",
    "\n",
    "<a href=\"https://www.instagram.com/olga.belitskaya/\" style=\"font-size:120%;\">&#x1F300; &nbsp; Instagram Posts</a> &nbsp; &nbsp; &nbsp; <a href=\"https://www.pinterest.ru/olga_belitskaya/code-style/\" style=\"font-size:120%;\">&#x1F300; &nbsp; Pinterest Posts</a>"
   ]
  },
  {
   "cell_type": "markdown",
   "metadata": {},
   "source": [
    "# &#x1F4D1; &nbsp; SageMath Practice\n",
    "\n",
    "## [PART 1](https://olgabelitskaya.github.io/sage.html)\n",
    "\n",
    "## [PART 2](https://olgabelitskaya.github.io/sage2.html)\n",
    "\n",
    "## [PART 3](https://olgabelitskaya.github.io/sage3.html)\n",
    "\n",
    "## [PART 4](https://olgabelitskaya.github.io/sage4.html)\n",
    "\n",
    "## [PART 5](https://olgabelitskaya.github.io/sage5.html)\n",
    "\n",
    "## [PART 6](https://olgabelitskaya.github.io/sage6.html)\n",
    "\n",
    "## [PART 7](https://olgabelitskaya.github.io/sage7.html)\n",
    "\n",
    "## [PART 8](https://olgabelitskaya.github.io/sage8.html)\n",
    "\n",
    "## [PART 9](https://olgabelitskaya.github.io/sage9.html)\n",
    "\n",
    "## [PART 10](https://olgabelitskaya.github.io/sage10.html)\n",
    "\n",
    "## [PART 11](https://olgabelitskaya.github.io/sage11.html)\n",
    "\n",
    "## [PART 12](https://olgabelitskaya.github.io/sage12.html)"
   ]
  }
 ],
 "metadata": {
  "kernelspec": {
   "display_name": "Python 2",
   "language": "python",
   "name": "python2"
  },
  "language_info": {
   "codemirror_mode": {
    "name": "ipython",
    "version": 2
   },
   "file_extension": ".py",
   "mimetype": "text/x-python",
   "name": "python",
   "nbconvert_exporter": "python",
   "pygments_lexer": "ipython2",
   "version": "2.7.15"
  }
 },
 "nbformat": 4,
 "nbformat_minor": 2
}
