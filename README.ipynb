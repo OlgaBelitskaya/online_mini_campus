{
 "cells": [
  {
   "cell_type": "markdown",
   "metadata": {},
   "source": [
    "# &#x1F4D1; &nbsp; Online Mini Campus \n",
    "## Morning Exercises for Learners :)\n",
    "\n",
    "<a href=\"https://www.instagram.com/olga.belitskaya/\" style=\"font-size:120%;\">&#x1F300; &nbsp; Instagram Posts</a> &nbsp; &nbsp; &nbsp; <a href=\"https://www.pinterest.ru/olga_belitskaya/code-style/\" style=\"font-size:120%;\">&#x1F300; &nbsp; Pinterest Posts</a>"
   ]
  },
  {
   "cell_type": "markdown",
   "metadata": {},
   "source": [
    "# &#x1F4D1; &nbsp; SageMath Practice\n",
    "\n",
    "## [PART 1](https://olgabelitskaya.github.io/sage.html)\n",
    "\n",
    "## [PART 2](https://olgabelitskaya.github.io/sage2.html)\n",
    "\n",
    "## [PART 3](https://olgabelitskaya.github.io/sage3.html)\n",
    "\n",
    "## [PART 4](https://olgabelitskaya.github.io/sage4.html)\n",
    "\n",
    "## [PART 5](https://olgabelitskaya.github.io/sage5.html)\n",
    "\n",
    "## [PART 6](https://olgabelitskaya.github.io/sage6.html)\n",
    "\n",
    "## [PART 7](https://olgabelitskaya.github.io/sage7.html)\n",
    "\n",
    "## [PART 8](https://olgabelitskaya.github.io/sage8.html)\n",
    "\n",
    "## [PART 9](https://olgabelitskaya.github.io/sage9.html)\n",
    "\n",
    "## [PART 10](https://olgabelitskaya.github.io/sage10.html)\n",
    "\n",
    "## [PART 11](https://olgabelitskaya.github.io/sage11.html)\n",
    "\n",
    "## [PART 12](https://olgabelitskaya.github.io/sage12.html)\n",
    "\n",
    "## [PART 13](https://olgabelitskaya.github.io/sage13.html)\n",
    "\n",
    "## [PART 14](https://olgabelitskaya.github.io/sage14.html)\n",
    "\n",
    "## [PART 15](https://olgabelitskaya.github.io/sage15.html)\n",
    "\n",
    "## [PART 16](https://olgabelitskaya.github.io/sage16.html)\n",
    "\n",
    "## [PART 17](https://olgabelitskaya.github.io/sage17.html)\n",
    "\n",
    "## [PART 18](https://olgabelitskaya.github.io/sage18.html)\n",
    "\n",
    "## [PART 19](https://olgabelitskaya.github.io/sage19.html)\n",
    "\n",
    "## [PART 20](https://olgabelitskaya.github.io/sage20.html)"
   ]
  }
 ],
 "metadata": {
  "kernelspec": {
   "display_name": "Python 3",
   "language": "python",
   "name": "python3"
  },
  "language_info": {
   "codemirror_mode": {
    "name": "ipython",
    "version": 3
   },
   "file_extension": ".py",
   "mimetype": "text/x-python",
   "name": "python",
   "nbconvert_exporter": "python",
   "pygments_lexer": "ipython3",
   "version": "3.6.4"
  }
 },
 "nbformat": 4,
 "nbformat_minor": 2
}
